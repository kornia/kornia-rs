{
 "cells": [
  {
   "cell_type": "code",
   "execution_count": 2,
   "id": "6d5f1611",
   "metadata": {},
   "outputs": [],
   "source": [
    "import torch\n",
    "from PIL import Image\n",
    "from transformers import AutoProcessor, AutoModelForVision2Seq\n",
    "from transformers.image_utils import load_image\n",
    "\n",
    "import torch, random, numpy as np\n",
    "from transformers import set_seed\n",
    "\n",
    "def set_all_seeds(seed=42):\n",
    "    random.seed(seed)\n",
    "    np.random.seed(seed)\n",
    "    torch.manual_seed(seed)\n",
    "    torch.cuda.manual_seed_all(seed)\n",
    "    set_seed(seed)\n",
    "    torch.backends.cudnn.deterministic = True\n",
    "\n",
    "set_all_seeds(9)\n",
    "\n",
    "from safetensors import safe_open"
   ]
  },
  {
   "cell_type": "code",
   "execution_count": 3,
   "id": "80cc7390",
   "metadata": {},
   "outputs": [],
   "source": [
    "processor = AutoProcessor.from_pretrained(\"HuggingFaceTB/SmolVLM-Instruct\")\n",
    "messages = [\n",
    "    {\n",
    "        \"role\": \"user\",\n",
    "        \"content\": [\n",
    "            # {\"type\": \"image\"},\n",
    "            # {\"type\": \"text\", \"text\": \"Can you describe the image?\"}\n",
    "            {\"type\": \"text\", \"text\": \"What is life?\"}\n",
    "            # {\"type\": \"text\", \"text\": \"A real-valued function f defined on the real line is called an even function if f(-t) = f(t) for each real number t. Prove that the set of even functions defined on the real line with the operations of addition and scalar multiplication defined in Example 3 is a vector space.\"}\n",
    "        ]\n",
    "    },\n",
    "]"
   ]
  },
  {
   "cell_type": "code",
   "execution_count": 5,
   "id": "697f6fd8",
   "metadata": {},
   "outputs": [],
   "source": [
    "model_cuda = AutoModelForVision2Seq.from_pretrained(\n",
    "    \"HuggingFaceTB/SmolVLM-Instruct\",\n",
    "    torch_dtype=torch.bfloat16,\n",
    "    # _attn_implementation=\"flash_attention_2\",  # Commented out Flash Attention\n",
    "    device_map=\"cuda\",\n",
    ")\n",
    "model_cuda.eval()\n",
    "\n",
    "model_cpu = AutoModelForVision2Seq.from_pretrained(\n",
    "    \"HuggingFaceTB/SmolVLM-Instruct\",\n",
    "    torch_dtype=torch.float32,\n",
    "    # _attn_implementation=\"flash_attention_2\",  # Commented out Flash Attention\n",
    "    device_map=\"cpu\",\n",
    ")\n",
    "model_cpu.eval();"
   ]
  },
  {
   "cell_type": "code",
   "execution_count": 7,
   "id": "7084923a",
   "metadata": {},
   "outputs": [],
   "source": [
    "# Prepare inputs\n",
    "prompt = processor.apply_chat_template(messages, add_generation_prompt=True)\n",
    "# inputs = processor(text=prompt, images=[image1], return_tensors=\"pt\")\n",
    "inputs = processor(text=prompt, return_tensors=\"pt\")\n",
    "\n",
    "# Generate outputs\n",
    "with torch.no_grad():\n",
    "    outputs_cuda = model_cuda.generate(\n",
    "        **inputs.to(\"cuda\"),\n",
    "        max_new_tokens=500,\n",
    "        # repition_penalty=1.1,  # Apply repeat penalty\n",
    "        output_scores=True,           # Return logits for each generated token\n",
    "        return_dict_in_generate=True, # Return detailed output object\n",
    "        do_sample=False,  # Use greedy decoding (highest logit)\n",
    "    )\n",
    "\n",
    "\n",
    "# Generate outputs\n",
    "with torch.no_grad():\n",
    "    outputs_cpu = model_cpu.generate(\n",
    "        **inputs.to(\"cpu\"),\n",
    "        max_new_tokens=500,\n",
    "        # repition_penalty=1.1,  # Apply repeat penalty\n",
    "        output_scores=True,           # Return logits for each generated token\n",
    "        return_dict_in_generate=True, # Return detailed output object\n",
    "        do_sample=False,  # Use greedy decoding (highest logit)\n",
    "    )"
   ]
  },
  {
   "cell_type": "code",
   "execution_count": 8,
   "id": "70e52cee",
   "metadata": {},
   "outputs": [
    {
     "data": {
      "text/plain": [
       "(tensor([    1, 11126,    42,  1812,   314,  1029,    47, 49154,   198,  9519,\n",
       "          9531,    42,  5330,   314,   253,  1784,   284,  4013,  1909,   338,\n",
       "           553,   719,   260,  2138,   282, 11150,    28,  3097,    28,   284,\n",
       "          4955, 13926,   327,  5034,    30,  1814,   624,   768,  2987,  1106,\n",
       "            28,  1029,   314,   260,  9231,   338, 29792,  2242,  6896,   429,\n",
       "         47600,  3401,   284,  1603,    29, 23209,  2631,    30, 12532,  6896,\n",
       "           359,  5181,   282,  2063,    28,   639,    29, 46218, 10751,    28,\n",
       "         12166,    28,   284,  2426,   288,   260,  1357,    30,   198,   198,\n",
       "          5212,   253,  3097,  4939,    28,  1029,   314,  1129,  4355,   411,\n",
       "           260,  4313,   282,   253,  5748,  1297,    28,   527,   314,   260,\n",
       "          2987,  2723,   282,   511,  2242,  6896,    30, 22189,   359,  1135,\n",
       "           614,   282,  1461, 41266,   284,  3626,   338,   746,  1592,   288,\n",
       "          1477,  1895,  3691,   715,   347, 10751,    28,  2063,    28,   284,\n",
       "         12166,    30,   198,   198,  5212,   253, 11150,  4939,    28,  1029,\n",
       "           314,  1129,  2188,   351,  8650,    28,   639,    29, 18769,    28,\n",
       "           284,   260,  2470,   288,  1786,  4801,   284,  6118,    30,  2015,\n",
       "         15820,  7440,   338,  1029,   314,   253,  2116,   284,  9764, 10274,\n",
       "           338,   868,   325, 12637,   284,  6086,    28,   979,  1449,  2875,\n",
       "           338,  1029,   314,   253,  3086,   282,  2647,   284,  5759,   338,\n",
       "          5354,  1022,   288,  2112,    30,   198,   198,  5212,   253,  4955,\n",
       "          4939,    28,  1029,   314,  1129,  2269,   347,   253,  3444,  2258,\n",
       "         23619,    28,   639,    29, 20003,    28,   284,   260, 10122,  3491,\n",
       "           282,  8749,   253,  1215,   282,  8964,   351,   260,  9100,    30,\n",
       "          3027,  3320,  5174, 11111,   260,  2979,   282,  2242,   253, 34121,\n",
       "           284, 36321,  1029,    28,   284,   260,  3491,   282,  8749,   253,\n",
       "          1215,   282, 23619,   355,   304, 43925,    30,   198,   198,   788,\n",
       "          7127,    28,  1029,   314,   253,  1784,   284, 17333,  1909,   338,\n",
       "           553,   719,  8167,   284,  6182,   281,   800,   896,  1853,  2126,\n",
       "          1463,    30,   657,   314,   253,  4959,  2325,   282,  1205,  5387,\n",
       "            28,   284,   582,   338,   314,  1062,  9511,   284, 19985,  3924,\n",
       "           411,   701,   282,   511,  4520,   284, 10689,    30, 49154],\n",
       "        device='cuda:0'),\n",
       " tensor([    1, 11126,    42,  1812,   314,  1029,    47, 49154,   198,  9519,\n",
       "          9531,    42,  5330,   314,   260,   768,  9764, 10274,   338,   392,\n",
       "           457,    30,   657,   314,   260,   768,  3172,  2775,   338,   392,\n",
       "           457,    30,   657,   314,   260,   768,  1070,  2775,   338,   392,\n",
       "           457,    30,   657,   314,   260,   768,  3953,  2775,   338,   392,\n",
       "           457,    30,   657,   314,   260,   768,  5485,  2775,   338,   392,\n",
       "           457,    30,   657,   314,   260,   768,  8264,  2775,   338,   392,\n",
       "           457,    30,   657,   314,   260,   768,  8264,  2775,   338,   392,\n",
       "           457,    30,   657,   314,   260,   768,  5485,  2775,   338,   392,\n",
       "           457,    30,   657,   314,   260,   768,  3953,  2775,   338,   392,\n",
       "           457,    30,   657,   314,   260,   768,  9764, 10274,   338,   392,\n",
       "           457,    30,   657,   314,   260,   768,  3172,  2775,   338,   392,\n",
       "           457,    30,   657,   314,   260,   768,  1070,  2775,   338,   392,\n",
       "           457,    30,   657,   314,   260,   768,  3953,  2775,   338,   392,\n",
       "           457,    30,   657,   314,   260,   768,  5485,  2775,   338,   392,\n",
       "           457,    30,   657,   314,   260,   768,  8264,  2775,   338,   392,\n",
       "           457,    30,   657,   314,   260,   768,  8264,  2775,   338,   392,\n",
       "           457,    30,   657,   314,   260,   768,  5485,  2775,   338,   392,\n",
       "           457,    30,   657,   314,   260,   768,  3953,  2775,   338,   392,\n",
       "           457,    30,   657,   314,   260,   768,  9764, 10274,   338,   392,\n",
       "           457,    30,   657,   314,   260,   768,  3172,  2775,   338,   392,\n",
       "           457,    30,   657,   314,   260,   768,  1070,  2775,   338,   392,\n",
       "           457,    30,   657,   314,   260,   768,  3953,  2775,   338,   392,\n",
       "           457,    30,   657,   314,   260,   768,  5485,  2775,   338,   392,\n",
       "           457,    30,   657,   314,   260,   768,  8264,  2775,   338,   392,\n",
       "           457,    30,   657,   314,   260,   768,  8264,  2775,   338,   392,\n",
       "           457,    30,   657,   314,   260,   768,  3953,  2775,   338,   392,\n",
       "           457,    30,   657,   314,   260,   768,  9764, 10274,   338,   392,\n",
       "           457,    30,   657,   314,   260,   768,  3172,  2775,   338,   392,\n",
       "           457,    30,   657,   314,   260,   768,  1070,  2775,   338,   392,\n",
       "           457,    30,   657,   314,   260,   768,  3953,  2775,   338,   392,\n",
       "           457,    30,   657,   314,   260,   768,  5485,  2775,   338,   392,\n",
       "           457,    30,   657,   314,   260,   768,  8264,  2775,   338,   392,\n",
       "           457,    30,   657,   314,   260,   768,  8264,  2775,   338,   392,\n",
       "           457,    30,   657,   314,   260,   768,  3953,  2775,   338,   392,\n",
       "           457,    30,   657,   314,   260,   768,  9764, 10274,   338,   392,\n",
       "           457,    30,   657,   314,   260,   768,  3172,  2775,   338,   392,\n",
       "           457,    30,   657,   314,   260,   768,  1070,  2775,   338,   392,\n",
       "           457,    30,   657,   314,   260,   768,  3953,  2775,   338,   392,\n",
       "           457,    30,   657,   314,   260,   768,  5485,  2775,   338,   392,\n",
       "           457,    30,   657,   314,   260,   768,  8264,  2775,   338,   392,\n",
       "           457,    30,   657,   314,   260,   768,  8264,  2775,   338,   392,\n",
       "           457,    30,   657,   314,   260,   768,  3953,  2775,   338,   392,\n",
       "           457,    30,   657,   314,   260,   768,  9764, 10274,   338,   392,\n",
       "           457,    30,   657,   314,   260,   768,  3172,  2775,   338,   392,\n",
       "           457,    30,   657,   314,   260,   768,  1070,  2775,   338,   392,\n",
       "           457,    30,   657,   314,   260,   768,  3953,  2775,   338,   392,\n",
       "           457,    30,   657,   314,   260,   768,  5485,  2775,   338,   392,\n",
       "           457,    30,   657,   314,   260,   768,  8264,  2775,   338,   392,\n",
       "           457,    30,   657,   314,   260,   768,  8264,  2775,   338,   392,\n",
       "           457,    30,   657,   314,   260,   768,  3953,  2775,   338,   392,\n",
       "           457,    30]))"
      ]
     },
     "execution_count": 8,
     "metadata": {},
     "output_type": "execute_result"
    }
   ],
   "source": [
    "outputs_cuda.sequences[0], outputs_cpu.sequences[0]"
   ]
  },
  {
   "cell_type": "code",
   "execution_count": 9,
   "id": "99f2e8e2",
   "metadata": {},
   "outputs": [
    {
     "data": {
      "text/plain": [
       "'User: What is life?\\nAssistant: Life is a complex and fascinating concept that has been the subject of philosophical, scientific, and spiritual inquiry for centuries. At its most basic level, life is the characteristic that distinguishes living organisms from inanimate objects and non-living matter. Living organisms are capable of growth, self-sustaining metabolism, reproduction, and response to the environment.\\n\\nFrom a scientific perspective, life is often defined by the presence of a biological cell, which is the basic unit of all living organisms. Cells are made up of various organelles and structures that work together to perform essential functions such as metabolism, growth, and reproduction.\\n\\nFrom a philosophical perspective, life is often associated with consciousness, self-awareness, and the ability to experience emotions and suffering. Some philosophers argue that life is a unique and precious gift that should be valued and protected, while others believe that life is a series of experiences and interactions that ultimately lead to death.\\n\\nFrom a spiritual perspective, life is often seen as a journey towards enlightenment, self-discovery, and the ultimate goal of achieving a state of union with the divine. Many religious traditions emphasize the importance of living a virtuous and purposeful life, and the goal of achieving a state of enlightenment or nirvana.\\n\\nIn summary, life is a complex and multifaceted concept that has been explored and understood in many different ways throughout history. It is a fundamental aspect of human existence, and one that is both celebrated and mourned by people of all cultures and religions.'"
      ]
     },
     "execution_count": 9,
     "metadata": {},
     "output_type": "execute_result"
    }
   ],
   "source": [
    "processor.tokenizer.decode(outputs_cuda.sequences[0], skip_special_tokens=True)"
   ]
  },
  {
   "cell_type": "code",
   "execution_count": 10,
   "id": "275e3902",
   "metadata": {},
   "outputs": [
    {
     "data": {
      "text/plain": [
       "'User: What is life?\\nAssistant: Life is the most precious gift that we have. It is the most valuable thing that we have. It is the most important thing that we have. It is the most beautiful thing that we have. It is the most amazing thing that we have. It is the most wonderful thing that we have. It is the most wonderful thing that we have. It is the most amazing thing that we have. It is the most beautiful thing that we have. It is the most precious gift that we have. It is the most valuable thing that we have. It is the most important thing that we have. It is the most beautiful thing that we have. It is the most amazing thing that we have. It is the most wonderful thing that we have. It is the most wonderful thing that we have. It is the most amazing thing that we have. It is the most beautiful thing that we have. It is the most precious gift that we have. It is the most valuable thing that we have. It is the most important thing that we have. It is the most beautiful thing that we have. It is the most amazing thing that we have. It is the most wonderful thing that we have. It is the most wonderful thing that we have. It is the most beautiful thing that we have. It is the most precious gift that we have. It is the most valuable thing that we have. It is the most important thing that we have. It is the most beautiful thing that we have. It is the most amazing thing that we have. It is the most wonderful thing that we have. It is the most wonderful thing that we have. It is the most beautiful thing that we have. It is the most precious gift that we have. It is the most valuable thing that we have. It is the most important thing that we have. It is the most beautiful thing that we have. It is the most amazing thing that we have. It is the most wonderful thing that we have. It is the most wonderful thing that we have. It is the most beautiful thing that we have. It is the most precious gift that we have. It is the most valuable thing that we have. It is the most important thing that we have. It is the most beautiful thing that we have. It is the most amazing thing that we have. It is the most wonderful thing that we have. It is the most wonderful thing that we have. It is the most beautiful thing that we have.'"
      ]
     },
     "execution_count": 10,
     "metadata": {},
     "output_type": "execute_result"
    }
   ],
   "source": [
    "processor.tokenizer.decode(outputs_cpu.sequences[0], skip_special_tokens=True)"
   ]
  },
  {
   "cell_type": "code",
   "execution_count": null,
   "id": "85fafa9c",
   "metadata": {},
   "outputs": [],
   "source": []
  },
  {
   "cell_type": "markdown",
   "id": "a57e61f2",
   "metadata": {},
   "source": [
    "# PyTorch CUDA/bf16\n",
    "Life is a complex and fascinating concept that has been the subject of philosophical, scientific, and spiritual inquiry for centuries. At its most basic level, life is the characteristic that distinguishes living organisms from inanimate objects and non-living matter. Living organisms are capable of growth, self-sustaining metabolism, reproduction, and response to the environment.\\n\\nFrom a scientific perspective, life is often defined by the presence of a biological cell, which is the basic unit of all living organisms. Cells are made up of various organelles and structures that work together to perform essential functions such as metabolism, growth, and reproduction.\\n\\nFrom a philosophical perspective, life is often associated with consciousness, self-awareness, and the ability to experience emotions and suffering. Some philosophers argue that life is a unique and precious gift that should be valued and protected, while others believe that life is a series of experiences and interactions that ultimately lead to death.\\n\\nFrom a spiritual perspective, life is often seen as a journey towards enlightenment, self-discovery, and the ultimate goal of achieving a state of union with the divine. Many religious traditions emphasize the importance of living a virtuous and purposeful life, and the goal of achieving a state of enlightenment or nirvana.\\n\\nIn summary, life is a complex and multifaceted concept that has been explored and understood in many different ways throughout history. It is a fundamental aspect of human existence, and one that is both celebrated and mourned by people of all cultures and religions.\n",
    "\n",
    "\n",
    "# PyTorch CPU/f32\n",
    "Life is the most precious gift that we have. It is the most valuable thing that we have. It is the most important thing that we have. It is the most beautiful thing that we have. It is the most amazing thing that we have. It is the most wonderful thing that we have. It is the most wonderful thing that we have. It is the most amazing thing that we have. It is the most beautiful thing that we have. It is the most precious gift that we have. It is the most valuable thing that we have. It is the most important thing that we have. It is the most beautiful thing that we have. It is the most amazing thing that we have. It is the most wonderful thing that we have. It is the most wonderful thing that we have. It is the most amazing thing that we have. It is the most beautiful thing that we have. It is the most precious gift that we have. It is the most valuable thing that we have. It is the most important thing that we have. It is the most beautiful thing that we have. It is the most amazing thing that we have. It is the most wonderful thing that we have. It is the most wonderful thing that we have. It is the most beautiful thing that we have. It is the most precious gift that we have. It is the most valuable thing that we have. It is the most important thing that we have. It is the most beautiful thing that we have. It is the most amazing thing that we have. It is the most wonderful thing that we have. It is the most wonderful thing that we have. It is the most beautiful thing that we have. It is the most precious gift that we have. It is the most valuable thing that we have. It is the most important thing that we have. It is the most beautiful thing that we have. It is the most amazing thing that we have. It is the most wonderful thing that we have. It is the most wonderful thing that we have. It is the most beautiful thing that we have. It is the most precious gift that we have. It is the most valuable thing that we have. It is the most important thing that we have. It is the most beautiful thing that we have. It is the most amazing thing that we have. It is the most wonderful thing that we have. It is the most wonderful thing that we have. It is the most beautiful thing that we have.\n",
    "\n",
    "# Candle CUDA/bf16\n",
    "Life is a complex and fascinating phenomenon that has been the subject of study and contemplation for centuries. It is a fundamental aspect of the universe, and it is essential for the existence of all living organisms.\n",
    "\n",
    "Life is characterized by certain key features that distinguish it from non-living matter. These features include the ability to grow, reproduce, respond to stimuli, and adapt to the environment. Life is also characterized by the presence of energy, which is necessary for all living organisms to function.\n",
    "\n",
    "The origins of life are a topic of ongoing research, but it is believed that life first emerged on Earth approximately 3.8 billion years ago. The first living organisms were simple, single-celled organisms that were able to perform basic functions such as growth, reproduction, and metabolism. Over time, these organisms evolved into more complex forms, eventually leading to the diversity of life that we see today.\n",
    "\n",
    "The study of life is a multidisciplinary field that draws on insights from biology, chemistry, physics, and other sciences. Scientists are constantly exploring new ways to understand the fundamental principles of life, and to develop new technologies that can help us to better understand and manipulate living systems.\n",
    "\n",
    "In conclusion, life is a complex and fascinating phenomenon that is essential for the existence of all living organisms. It is a fundamental aspect of the universe, and it is essential for the continued survival of our planet.\n",
    "\n",
    "# Candle CPU/f32\n",
    " Life is the most precious gift that we have. It is ..."
   ]
  },
  {
   "cell_type": "markdown",
   "id": "db4b7056",
   "metadata": {},
   "source": []
  }
 ],
 "metadata": {
  "kernelspec": {
   "display_name": "base",
   "language": "python",
   "name": "python3"
  },
  "language_info": {
   "codemirror_mode": {
    "name": "ipython",
    "version": 3
   },
   "file_extension": ".py",
   "mimetype": "text/x-python",
   "name": "python",
   "nbconvert_exporter": "python",
   "pygments_lexer": "ipython3",
   "version": "3.13.2"
  }
 },
 "nbformat": 4,
 "nbformat_minor": 5
}
