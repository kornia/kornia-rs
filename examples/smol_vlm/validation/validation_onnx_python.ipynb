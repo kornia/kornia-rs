{
 "cells": [
  {
   "cell_type": "code",
   "execution_count": 8,
   "id": "aab71263",
   "metadata": {},
   "outputs": [
    {
     "name": "stdout",
     "output_type": "stream",
     "text": [
      "Input name: inputs_embeds, shape: ['batch_size', 'sequence_length', 576], type: tensor(float)\n",
      "Input name: attention_mask, shape: ['batch_size', 'total_sequence_length'], type: tensor(int64)\n",
      "Input name: position_ids, shape: ['batch_size', 'sequence_length'], type: tensor(int64)\n",
      "Input name: past_key_values.0.key, shape: ['batch_size', 3, 'past_sequence_length', 64], type: tensor(float)\n",
      "Input name: past_key_values.0.value, shape: ['batch_size', 3, 'past_sequence_length', 64], type: tensor(float)\n",
      "Input name: past_key_values.1.key, shape: ['batch_size', 3, 'past_sequence_length', 64], type: tensor(float)\n",
      "Input name: past_key_values.1.value, shape: ['batch_size', 3, 'past_sequence_length', 64], type: tensor(float)\n",
      "Input name: past_key_values.2.key, shape: ['batch_size', 3, 'past_sequence_length', 64], type: tensor(float)\n",
      "Input name: past_key_values.2.value, shape: ['batch_size', 3, 'past_sequence_length', 64], type: tensor(float)\n",
      "Input name: past_key_values.3.key, shape: ['batch_size', 3, 'past_sequence_length', 64], type: tensor(float)\n",
      "Input name: past_key_values.3.value, shape: ['batch_size', 3, 'past_sequence_length', 64], type: tensor(float)\n",
      "Input name: past_key_values.4.key, shape: ['batch_size', 3, 'past_sequence_length', 64], type: tensor(float)\n",
      "Input name: past_key_values.4.value, shape: ['batch_size', 3, 'past_sequence_length', 64], type: tensor(float)\n",
      "Input name: past_key_values.5.key, shape: ['batch_size', 3, 'past_sequence_length', 64], type: tensor(float)\n",
      "Input name: past_key_values.5.value, shape: ['batch_size', 3, 'past_sequence_length', 64], type: tensor(float)\n",
      "Input name: past_key_values.6.key, shape: ['batch_size', 3, 'past_sequence_length', 64], type: tensor(float)\n",
      "Input name: past_key_values.6.value, shape: ['batch_size', 3, 'past_sequence_length', 64], type: tensor(float)\n",
      "Input name: past_key_values.7.key, shape: ['batch_size', 3, 'past_sequence_length', 64], type: tensor(float)\n",
      "Input name: past_key_values.7.value, shape: ['batch_size', 3, 'past_sequence_length', 64], type: tensor(float)\n",
      "Input name: past_key_values.8.key, shape: ['batch_size', 3, 'past_sequence_length', 64], type: tensor(float)\n",
      "Input name: past_key_values.8.value, shape: ['batch_size', 3, 'past_sequence_length', 64], type: tensor(float)\n",
      "Input name: past_key_values.9.key, shape: ['batch_size', 3, 'past_sequence_length', 64], type: tensor(float)\n",
      "Input name: past_key_values.9.value, shape: ['batch_size', 3, 'past_sequence_length', 64], type: tensor(float)\n",
      "Input name: past_key_values.10.key, shape: ['batch_size', 3, 'past_sequence_length', 64], type: tensor(float)\n",
      "Input name: past_key_values.10.value, shape: ['batch_size', 3, 'past_sequence_length', 64], type: tensor(float)\n",
      "Input name: past_key_values.11.key, shape: ['batch_size', 3, 'past_sequence_length', 64], type: tensor(float)\n",
      "Input name: past_key_values.11.value, shape: ['batch_size', 3, 'past_sequence_length', 64], type: tensor(float)\n",
      "Input name: past_key_values.12.key, shape: ['batch_size', 3, 'past_sequence_length', 64], type: tensor(float)\n",
      "Input name: past_key_values.12.value, shape: ['batch_size', 3, 'past_sequence_length', 64], type: tensor(float)\n",
      "Input name: past_key_values.13.key, shape: ['batch_size', 3, 'past_sequence_length', 64], type: tensor(float)\n",
      "Input name: past_key_values.13.value, shape: ['batch_size', 3, 'past_sequence_length', 64], type: tensor(float)\n",
      "Input name: past_key_values.14.key, shape: ['batch_size', 3, 'past_sequence_length', 64], type: tensor(float)\n",
      "Input name: past_key_values.14.value, shape: ['batch_size', 3, 'past_sequence_length', 64], type: tensor(float)\n",
      "Input name: past_key_values.15.key, shape: ['batch_size', 3, 'past_sequence_length', 64], type: tensor(float)\n",
      "Input name: past_key_values.15.value, shape: ['batch_size', 3, 'past_sequence_length', 64], type: tensor(float)\n",
      "Input name: past_key_values.16.key, shape: ['batch_size', 3, 'past_sequence_length', 64], type: tensor(float)\n",
      "Input name: past_key_values.16.value, shape: ['batch_size', 3, 'past_sequence_length', 64], type: tensor(float)\n",
      "Input name: past_key_values.17.key, shape: ['batch_size', 3, 'past_sequence_length', 64], type: tensor(float)\n",
      "Input name: past_key_values.17.value, shape: ['batch_size', 3, 'past_sequence_length', 64], type: tensor(float)\n",
      "Input name: past_key_values.18.key, shape: ['batch_size', 3, 'past_sequence_length', 64], type: tensor(float)\n",
      "Input name: past_key_values.18.value, shape: ['batch_size', 3, 'past_sequence_length', 64], type: tensor(float)\n",
      "Input name: past_key_values.19.key, shape: ['batch_size', 3, 'past_sequence_length', 64], type: tensor(float)\n",
      "Input name: past_key_values.19.value, shape: ['batch_size', 3, 'past_sequence_length', 64], type: tensor(float)\n",
      "Input name: past_key_values.20.key, shape: ['batch_size', 3, 'past_sequence_length', 64], type: tensor(float)\n",
      "Input name: past_key_values.20.value, shape: ['batch_size', 3, 'past_sequence_length', 64], type: tensor(float)\n",
      "Input name: past_key_values.21.key, shape: ['batch_size', 3, 'past_sequence_length', 64], type: tensor(float)\n",
      "Input name: past_key_values.21.value, shape: ['batch_size', 3, 'past_sequence_length', 64], type: tensor(float)\n",
      "Input name: past_key_values.22.key, shape: ['batch_size', 3, 'past_sequence_length', 64], type: tensor(float)\n",
      "Input name: past_key_values.22.value, shape: ['batch_size', 3, 'past_sequence_length', 64], type: tensor(float)\n",
      "Input name: past_key_values.23.key, shape: ['batch_size', 3, 'past_sequence_length', 64], type: tensor(float)\n",
      "Input name: past_key_values.23.value, shape: ['batch_size', 3, 'past_sequence_length', 64], type: tensor(float)\n",
      "Input name: past_key_values.24.key, shape: ['batch_size', 3, 'past_sequence_length', 64], type: tensor(float)\n",
      "Input name: past_key_values.24.value, shape: ['batch_size', 3, 'past_sequence_length', 64], type: tensor(float)\n",
      "Input name: past_key_values.25.key, shape: ['batch_size', 3, 'past_sequence_length', 64], type: tensor(float)\n",
      "Input name: past_key_values.25.value, shape: ['batch_size', 3, 'past_sequence_length', 64], type: tensor(float)\n",
      "Input name: past_key_values.26.key, shape: ['batch_size', 3, 'past_sequence_length', 64], type: tensor(float)\n",
      "Input name: past_key_values.26.value, shape: ['batch_size', 3, 'past_sequence_length', 64], type: tensor(float)\n",
      "Input name: past_key_values.27.key, shape: ['batch_size', 3, 'past_sequence_length', 64], type: tensor(float)\n",
      "Input name: past_key_values.27.value, shape: ['batch_size', 3, 'past_sequence_length', 64], type: tensor(float)\n",
      "Input name: past_key_values.28.key, shape: ['batch_size', 3, 'past_sequence_length', 64], type: tensor(float)\n",
      "Input name: past_key_values.28.value, shape: ['batch_size', 3, 'past_sequence_length', 64], type: tensor(float)\n",
      "Input name: past_key_values.29.key, shape: ['batch_size', 3, 'past_sequence_length', 64], type: tensor(float)\n",
      "Input name: past_key_values.29.value, shape: ['batch_size', 3, 'past_sequence_length', 64], type: tensor(float)\n"
     ]
    },
    {
     "ename": "ValueError",
     "evalue": "Required inputs (['attention_mask', 'position_ids', 'past_key_values.0.key', 'past_key_values.0.value', 'past_key_values.1.key', 'past_key_values.1.value', 'past_key_values.2.key', 'past_key_values.2.value', 'past_key_values.3.key', 'past_key_values.3.value', 'past_key_values.4.key', 'past_key_values.4.value', 'past_key_values.5.key', 'past_key_values.5.value', 'past_key_values.6.key', 'past_key_values.6.value', 'past_key_values.7.key', 'past_key_values.7.value', 'past_key_values.8.key', 'past_key_values.8.value', 'past_key_values.9.key', 'past_key_values.9.value', 'past_key_values.10.key', 'past_key_values.10.value', 'past_key_values.11.key', 'past_key_values.11.value', 'past_key_values.12.key', 'past_key_values.12.value', 'past_key_values.13.key', 'past_key_values.13.value', 'past_key_values.14.key', 'past_key_values.14.value', 'past_key_values.15.key', 'past_key_values.15.value', 'past_key_values.16.key', 'past_key_values.16.value', 'past_key_values.17.key', 'past_key_values.17.value', 'past_key_values.18.key', 'past_key_values.18.value', 'past_key_values.19.key', 'past_key_values.19.value', 'past_key_values.20.key', 'past_key_values.20.value', 'past_key_values.21.key', 'past_key_values.21.value', 'past_key_values.22.key', 'past_key_values.22.value', 'past_key_values.23.key', 'past_key_values.23.value', 'past_key_values.24.key', 'past_key_values.24.value', 'past_key_values.25.key', 'past_key_values.25.value', 'past_key_values.26.key', 'past_key_values.26.value', 'past_key_values.27.key', 'past_key_values.27.value', 'past_key_values.28.key', 'past_key_values.28.value', 'past_key_values.29.key', 'past_key_values.29.value']) are missing from input feed (['inputs_embeds']).",
     "output_type": "error",
     "traceback": [
      "\u001b[31m---------------------------------------------------------------------------\u001b[39m",
      "\u001b[31mValueError\u001b[39m                                Traceback (most recent call last)",
      "\u001b[36mCell\u001b[39m\u001b[36m \u001b[39m\u001b[32mIn[8]\u001b[39m\u001b[32m, line 17\u001b[39m\n\u001b[32m     14\u001b[39m input_data = np.random.randn(\u001b[32m1\u001b[39m, \u001b[32m1\u001b[39m, \u001b[32m576\u001b[39m).astype(np.float32)  \u001b[38;5;66;03m# Example shape/dtype\u001b[39;00m\n\u001b[32m     16\u001b[39m \u001b[38;5;66;03m# Run inference\u001b[39;00m\n\u001b[32m---> \u001b[39m\u001b[32m17\u001b[39m outputs = \u001b[43msession\u001b[49m\u001b[43m.\u001b[49m\u001b[43mrun\u001b[49m\u001b[43m(\u001b[49m\u001b[38;5;28;43;01mNone\u001b[39;49;00m\u001b[43m,\u001b[49m\u001b[43m \u001b[49m\u001b[43m{\u001b[49m\u001b[43minput_name\u001b[49m\u001b[43m:\u001b[49m\u001b[43m \u001b[49m\u001b[43minput_data\u001b[49m\u001b[43m}\u001b[49m\u001b[43m)\u001b[49m\n\u001b[32m     19\u001b[39m \u001b[38;5;66;03m# Print output\u001b[39;00m\n\u001b[32m     20\u001b[39m \u001b[38;5;28;01mfor\u001b[39;00m i, out \u001b[38;5;129;01min\u001b[39;00m \u001b[38;5;28menumerate\u001b[39m(outputs):\n",
      "\u001b[36mFile \u001b[39m\u001b[32m~/miniconda3/lib/python3.13/site-packages/onnxruntime/capi/onnxruntime_inference_collection.py:269\u001b[39m, in \u001b[36mSession.run\u001b[39m\u001b[34m(self, output_names, input_feed, run_options)\u001b[39m\n\u001b[32m    255\u001b[39m \u001b[38;5;28;01mdef\u001b[39;00m\u001b[38;5;250m \u001b[39m\u001b[34mrun\u001b[39m(\u001b[38;5;28mself\u001b[39m, output_names, input_feed, run_options=\u001b[38;5;28;01mNone\u001b[39;00m) -> Sequence[np.ndarray | SparseTensor | \u001b[38;5;28mlist\u001b[39m | \u001b[38;5;28mdict\u001b[39m]:\n\u001b[32m    256\u001b[39m \u001b[38;5;250m    \u001b[39m\u001b[33;03m\"\"\"\u001b[39;00m\n\u001b[32m    257\u001b[39m \u001b[33;03m    Compute the predictions.\u001b[39;00m\n\u001b[32m    258\u001b[39m \n\u001b[32m   (...)\u001b[39m\u001b[32m    267\u001b[39m \u001b[33;03m        sess.run([output_name], {input_name: x})\u001b[39;00m\n\u001b[32m    268\u001b[39m \u001b[33;03m    \"\"\"\u001b[39;00m\n\u001b[32m--> \u001b[39m\u001b[32m269\u001b[39m     \u001b[38;5;28;43mself\u001b[39;49m\u001b[43m.\u001b[49m\u001b[43m_validate_input\u001b[49m\u001b[43m(\u001b[49m\u001b[38;5;28;43mlist\u001b[39;49m\u001b[43m(\u001b[49m\u001b[43minput_feed\u001b[49m\u001b[43m.\u001b[49m\u001b[43mkeys\u001b[49m\u001b[43m(\u001b[49m\u001b[43m)\u001b[49m\u001b[43m)\u001b[49m\u001b[43m)\u001b[49m\n\u001b[32m    270\u001b[39m     \u001b[38;5;28;01mif\u001b[39;00m \u001b[38;5;129;01mnot\u001b[39;00m output_names:\n\u001b[32m    271\u001b[39m         output_names = [output.name \u001b[38;5;28;01mfor\u001b[39;00m output \u001b[38;5;129;01min\u001b[39;00m \u001b[38;5;28mself\u001b[39m._outputs_meta]\n",
      "\u001b[36mFile \u001b[39m\u001b[32m~/miniconda3/lib/python3.13/site-packages/onnxruntime/capi/onnxruntime_inference_collection.py:251\u001b[39m, in \u001b[36mSession._validate_input\u001b[39m\u001b[34m(self, feed_input_names)\u001b[39m\n\u001b[32m    249\u001b[39m         missing_input_names.append(\u001b[38;5;28minput\u001b[39m.name)\n\u001b[32m    250\u001b[39m \u001b[38;5;28;01mif\u001b[39;00m missing_input_names:\n\u001b[32m--> \u001b[39m\u001b[32m251\u001b[39m     \u001b[38;5;28;01mraise\u001b[39;00m \u001b[38;5;167;01mValueError\u001b[39;00m(\n\u001b[32m    252\u001b[39m         \u001b[33mf\u001b[39m\u001b[33m\"\u001b[39m\u001b[33mRequired inputs (\u001b[39m\u001b[38;5;132;01m{\u001b[39;00mmissing_input_names\u001b[38;5;132;01m}\u001b[39;00m\u001b[33m) are missing from input feed (\u001b[39m\u001b[38;5;132;01m{\u001b[39;00mfeed_input_names\u001b[38;5;132;01m}\u001b[39;00m\u001b[33m).\u001b[39m\u001b[33m\"\u001b[39m\n\u001b[32m    253\u001b[39m     )\n",
      "\u001b[31mValueError\u001b[39m: Required inputs (['attention_mask', 'position_ids', 'past_key_values.0.key', 'past_key_values.0.value', 'past_key_values.1.key', 'past_key_values.1.value', 'past_key_values.2.key', 'past_key_values.2.value', 'past_key_values.3.key', 'past_key_values.3.value', 'past_key_values.4.key', 'past_key_values.4.value', 'past_key_values.5.key', 'past_key_values.5.value', 'past_key_values.6.key', 'past_key_values.6.value', 'past_key_values.7.key', 'past_key_values.7.value', 'past_key_values.8.key', 'past_key_values.8.value', 'past_key_values.9.key', 'past_key_values.9.value', 'past_key_values.10.key', 'past_key_values.10.value', 'past_key_values.11.key', 'past_key_values.11.value', 'past_key_values.12.key', 'past_key_values.12.value', 'past_key_values.13.key', 'past_key_values.13.value', 'past_key_values.14.key', 'past_key_values.14.value', 'past_key_values.15.key', 'past_key_values.15.value', 'past_key_values.16.key', 'past_key_values.16.value', 'past_key_values.17.key', 'past_key_values.17.value', 'past_key_values.18.key', 'past_key_values.18.value', 'past_key_values.19.key', 'past_key_values.19.value', 'past_key_values.20.key', 'past_key_values.20.value', 'past_key_values.21.key', 'past_key_values.21.value', 'past_key_values.22.key', 'past_key_values.22.value', 'past_key_values.23.key', 'past_key_values.23.value', 'past_key_values.24.key', 'past_key_values.24.value', 'past_key_values.25.key', 'past_key_values.25.value', 'past_key_values.26.key', 'past_key_values.26.value', 'past_key_values.27.key', 'past_key_values.27.value', 'past_key_values.28.key', 'past_key_values.28.value', 'past_key_values.29.key', 'past_key_values.29.value']) are missing from input feed (['inputs_embeds'])."
     ]
    }
   ],
   "source": [
    "import onnxruntime as ort\n",
    "import numpy as np\n",
    "\n",
    "# Load the ONNX model\n",
    "onnx_path = \"../../../tests/data/onnx/decoder_model_merged.onnx\"\n",
    "session = ort.InferenceSession(onnx_path)\n",
    "\n",
    "# Print input names and shapes\n",
    "for inp in session.get_inputs():\n",
    "    print(f\"Input name: {inp.name}, shape: {inp.shape}, type: {inp.type}\")\n",
    "\n",
    "# Prepare dummy input (adjust shape/type as needed)\n",
    "input_name = session.get_inputs()[0].name\n",
    "input_data = np.random.randn(1, 1, 576).astype(np.float32)  # Example shape/dtype\n",
    "\n",
    "# Run inference\n",
    "outputs = session.run(None, {input_name: input_data})\n",
    "\n",
    "# Print output\n",
    "for i, out in enumerate(outputs):\n",
    "    print(f\"Output {i} shape: {out.shape}\")"
   ]
  },
  {
   "cell_type": "code",
   "execution_count": null,
   "id": "e444fdfd",
   "metadata": {},
   "outputs": [],
   "source": []
  }
 ],
 "metadata": {
  "kernelspec": {
   "display_name": "base",
   "language": "python",
   "name": "python3"
  },
  "language_info": {
   "codemirror_mode": {
    "name": "ipython",
    "version": 3
   },
   "file_extension": ".py",
   "mimetype": "text/x-python",
   "name": "python",
   "nbconvert_exporter": "python",
   "pygments_lexer": "ipython3",
   "version": "3.13.2"
  }
 },
 "nbformat": 4,
 "nbformat_minor": 5
}
